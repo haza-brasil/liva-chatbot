{
 "cells": [
  {
   "cell_type": "markdown",
   "metadata": {
    "colab_type": "text",
    "id": "kO9wt2g3okLS"
   },
   "source": [
    "# Análise das Intents\n",
    "\n",
    "Este jupyter-notebook vai auxiliar na análise de detecção de intenções de seu chatbot."
   ]
  },
  {
   "cell_type": "markdown",
   "metadata": {},
   "source": [
    "### Configurando e Imports"
   ]
  },
  {
   "cell_type": "code",
   "execution_count": 1,
   "metadata": {
    "scrolled": false
   },
   "outputs": [
    {
     "name": "stdout",
     "output_type": "stream",
     "text": [
      "rasa: 1.2.0\n"
     ]
    }
   ],
   "source": [
    "import rasa\n",
    "print(\"rasa: {}\".format(rasa.__version__))"
   ]
  },
  {
   "cell_type": "markdown",
   "metadata": {
    "colab_type": "text",
    "id": "1xeXgpdwzOAl"
   },
   "source": [
    "### Treinando o modelo do Rasa NLU\n",
    "\n",
    "* Para avaliar o bot o primeiro passo é treiner o seu chatbot. Mas não é necessário treinar a parte de conversão completa (rasa_core) apenas a parte de interpretação de mensagens (rasa_nlu).\n",
    "\n",
    "* O comando `train-nlu` do Makefile executa o treinamento apenas do `rasa_nlu`"
   ]
  },
  {
   "cell_type": "code",
   "execution_count": 2,
   "metadata": {
    "scrolled": true
   },
   "outputs": [
    {
     "name": "stdout",
     "output_type": "stream",
     "text": [
      "make: Entering directory '/work/bot'\n",
      "rasa train nlu --fixed-model-name nlu\n",
      "/usr/local/lib/python3.6/site-packages/tensorflow/python/framework/dtypes.py:526: FutureWarning: Passing (type, 1) or '1type' as a synonym of type is deprecated; in a future version of numpy, it will be understood as (type, (1,)) / '(1,)type'.\n",
      "  _np_qint8 = np.dtype([(\"qint8\", np.int8, 1)])\n",
      "/usr/local/lib/python3.6/site-packages/tensorflow/python/framework/dtypes.py:527: FutureWarning: Passing (type, 1) or '1type' as a synonym of type is deprecated; in a future version of numpy, it will be understood as (type, (1,)) / '(1,)type'.\n",
      "  _np_quint8 = np.dtype([(\"quint8\", np.uint8, 1)])\n",
      "/usr/local/lib/python3.6/site-packages/tensorflow/python/framework/dtypes.py:528: FutureWarning: Passing (type, 1) or '1type' as a synonym of type is deprecated; in a future version of numpy, it will be understood as (type, (1,)) / '(1,)type'.\n",
      "  _np_qint16 = np.dtype([(\"qint16\", np.int16, 1)])\n",
      "/usr/local/lib/python3.6/site-packages/tensorflow/python/framework/dtypes.py:529: FutureWarning: Passing (type, 1) or '1type' as a synonym of type is deprecated; in a future version of numpy, it will be understood as (type, (1,)) / '(1,)type'.\n",
      "  _np_quint16 = np.dtype([(\"quint16\", np.uint16, 1)])\n",
      "/usr/local/lib/python3.6/site-packages/tensorflow/python/framework/dtypes.py:530: FutureWarning: Passing (type, 1) or '1type' as a synonym of type is deprecated; in a future version of numpy, it will be understood as (type, (1,)) / '(1,)type'.\n",
      "  _np_qint32 = np.dtype([(\"qint32\", np.int32, 1)])\n",
      "/usr/local/lib/python3.6/site-packages/tensorflow/python/framework/dtypes.py:535: FutureWarning: Passing (type, 1) or '1type' as a synonym of type is deprecated; in a future version of numpy, it will be understood as (type, (1,)) / '(1,)type'.\n",
      "  np_resource = np.dtype([(\"resource\", np.ubyte, 1)])\n",
      "\u001b[94mTraining NLU model...\u001b[0m\n",
      "2019-08-13 19:04:07 \u001b[1;30mINFO    \u001b[0m \u001b[34mrasa.nlu.training_data.training_data\u001b[0m  - Training data stats: \n",
      "\t- intent examples: 314 (15 distinct intents)\n",
      "\t- Found intents: 'what_know_about', 'i_wanna_buy', 'ask_how_doing', 'lead_data', 'affirm', 'deny', 'bye', 'i_wanna_rent', 'explain', 'inform_preferences', 'greet+ask_how_doing', 'out_of_scope', 'greet', 'elogios', 'i_wanna_sell'\n",
      "\t- entity examples: 73 (3 distinct entities)\n",
      "\t- found entities: 'trading_type', 'property_type', 'name'\n",
      "\n",
      "2019-08-13 19:04:07 \u001b[1;30mINFO    \u001b[0m \u001b[34mrasa.nlu.model\u001b[0m  - Starting to train component WhitespaceTokenizer\n",
      "2019-08-13 19:04:07 \u001b[1;30mINFO    \u001b[0m \u001b[34mrasa.nlu.model\u001b[0m  - Finished training component.\n",
      "2019-08-13 19:04:07 \u001b[1;30mINFO    \u001b[0m \u001b[34mrasa.nlu.model\u001b[0m  - Starting to train component RegexFeaturizer\n",
      "2019-08-13 19:04:07 \u001b[1;30mINFO    \u001b[0m \u001b[34mrasa.nlu.model\u001b[0m  - Finished training component.\n",
      "2019-08-13 19:04:07 \u001b[1;30mINFO    \u001b[0m \u001b[34mrasa.nlu.model\u001b[0m  - Starting to train component CRFEntityExtractor\n",
      "2019-08-13 19:04:07 \u001b[1;30mINFO    \u001b[0m \u001b[34mrasa.nlu.model\u001b[0m  - Finished training component.\n",
      "2019-08-13 19:04:07 \u001b[1;30mINFO    \u001b[0m \u001b[34mrasa.nlu.model\u001b[0m  - Starting to train component DucklingHTTPExtractor\n",
      "2019-08-13 19:04:07 \u001b[1;30mINFO    \u001b[0m \u001b[34mrasa.nlu.model\u001b[0m  - Finished training component.\n",
      "2019-08-13 19:04:07 \u001b[1;30mINFO    \u001b[0m \u001b[34mrasa.nlu.model\u001b[0m  - Starting to train component EntitySynonymMapper\n",
      "2019-08-13 19:04:07 \u001b[1;30mINFO    \u001b[0m \u001b[34mrasa.nlu.model\u001b[0m  - Finished training component.\n",
      "2019-08-13 19:04:07 \u001b[1;30mINFO    \u001b[0m \u001b[34mrasa.nlu.model\u001b[0m  - Starting to train component CountVectorsFeaturizer\n",
      "2019-08-13 19:04:07 \u001b[1;30mINFO    \u001b[0m \u001b[34mrasa.nlu.model\u001b[0m  - Finished training component.\n",
      "2019-08-13 19:04:07 \u001b[1;30mINFO    \u001b[0m \u001b[34mrasa.nlu.model\u001b[0m  - Starting to train component EmbeddingIntentClassifier\n",
      "2019-08-13 19:04:08 \u001b[1;30mINFO    \u001b[0m \u001b[34mrasa.nlu.classifiers.embedding_intent_classifier\u001b[0m  - Accuracy is updated every 10 epochs\n",
      "Epochs: 100%|██████████| 300/300 [00:11<00:00, 26.88it/s, loss=0.039, acc=0.997]\n",
      "2019-08-13 19:04:19 \u001b[1;30mINFO    \u001b[0m \u001b[34mrasa.nlu.classifiers.embedding_intent_classifier\u001b[0m  - Finished training embedding classifier, loss=0.039, train accuracy=0.997\n",
      "2019-08-13 19:04:19 \u001b[1;30mINFO    \u001b[0m \u001b[34mrasa.nlu.model\u001b[0m  - Finished training component.\n",
      "2019-08-13 19:04:19 \u001b[1;30mINFO    \u001b[0m \u001b[34mrasa.nlu.model\u001b[0m  - Successfully saved model into '/tmp/tmpz1qexfwk/nlu'\n",
      "\u001b[94mNLU model training completed.\u001b[0m\n",
      "\u001b[92mYour Rasa model is trained and saved at '/work/bot/models/nlu.tar.gz'.\u001b[0m\n",
      "make: Leaving directory '/work/bot'\n"
     ]
    }
   ],
   "source": [
    "!make train-nlu -C $BOT_DIR_PATH"
   ]
  },
  {
   "cell_type": "markdown",
   "metadata": {},
   "source": [
    "### Métodos de avaliação do chatbot\n",
    "\n",
    "* O Rasa fornece vários métodos de avaliação e validação das `intents`, para verificar como utiliza-los, cada método fornece um log, imagem, gráfico ou arquivo com dados relevantes para interpretação do chatbot."
   ]
  },
  {
   "cell_type": "markdown",
   "metadata": {},
   "source": [
    "* O comando `rasa test` é a base para a avaliação do chatbot.\n",
    "\n",
    "* Na célula abaixo a flag `-h` foi utilizada para mostrar as funções e a forma de uso de cada uma delas, mude seus valores e flags para ter as informações desejadas na sua análise.\n",
    "\n",
    "* Atualmente o Rasa possui 2 modos, `evaluation` e `crossvalidation` que tem seções decicadas a eles neste jupyter notebook."
   ]
  },
  {
   "cell_type": "code",
   "execution_count": 3,
   "metadata": {
    "scrolled": true
   },
   "outputs": [
    {
     "name": "stdout",
     "output_type": "stream",
     "text": [
      "usage: rasa test nlu [-h] [-v] [-vv] [--quiet] [-m MODEL] [-u NLU]\r\n",
      "                     [--report [REPORT]] [--successes [SUCCESSES]]\r\n",
      "                     [--errors ERRORS] [--histogram HISTOGRAM]\r\n",
      "                     [--confmat CONFMAT] [-c CONFIG [CONFIG ...]]\r\n",
      "                     [--cross-validation] [-f FOLDS] [-r RUNS]\r\n",
      "                     [-p PERCENTAGES [PERCENTAGES ...]]\r\n",
      "\r\n",
      "optional arguments:\r\n",
      "  -h, --help            show this help message and exit\r\n",
      "  -m MODEL, --model MODEL\r\n",
      "                        Path to a trained Rasa model. If a directory is\r\n",
      "                        specified, it will use the latest model in this\r\n",
      "                        directory. (default: models)\r\n",
      "  -u NLU, --nlu NLU     File or folder containing your NLU data. (default:\r\n",
      "                        data)\r\n",
      "  --report [REPORT]     Output path to save the intent/entity metrics report.\r\n",
      "                        (default: None)\r\n",
      "  --successes [SUCCESSES]\r\n",
      "                        Output path to save successful predictions. (default:\r\n",
      "                        None)\r\n",
      "  --errors ERRORS       Output path to save model errors. (default:\r\n",
      "                        errors.json)\r\n",
      "  --histogram HISTOGRAM\r\n",
      "                        Output path for the confidence histogram. (default:\r\n",
      "                        hist.png)\r\n",
      "  --confmat CONFMAT     Output path for the confusion matrix plot. (default:\r\n",
      "                        confmat.png)\r\n",
      "  -c CONFIG [CONFIG ...], --config CONFIG [CONFIG ...]\r\n",
      "                        Model configuration file. If a single file is passed\r\n",
      "                        and cross validation mode is chosen, cross-validation\r\n",
      "                        is performed, if multiple configs or a folder of\r\n",
      "                        configs are passed, models will be trained and\r\n",
      "                        compared directly. (default: None)\r\n",
      "\r\n",
      "Python Logging Options:\r\n",
      "  -v, --verbose         Be verbose. Sets logging level to INFO. (default:\r\n",
      "                        None)\r\n",
      "  -vv, --debug          Print lots of debugging statements. Sets logging level\r\n",
      "                        to DEBUG. (default: None)\r\n",
      "  --quiet               Be quiet! Sets logging level to WARNING. (default:\r\n",
      "                        None)\r\n",
      "\r\n",
      "Cross Validation:\r\n",
      "  --cross-validation    Switch on cross validation mode. Any provided model\r\n",
      "                        will be ignored. (default: False)\r\n",
      "  -f FOLDS, --folds FOLDS\r\n",
      "                        Number of cross validation folds (cross validation\r\n",
      "                        only). (default: 10)\r\n",
      "\r\n",
      "Comparison Mode:\r\n",
      "  -r RUNS, --runs RUNS  Number of comparison runs to make. (default: 3)\r\n",
      "  -p PERCENTAGES [PERCENTAGES ...], --percentages PERCENTAGES [PERCENTAGES ...]\r\n",
      "                        Percentages of training data to exclude during\r\n",
      "                        comparison. (default: [0, 25, 50, 75])\r\n"
     ]
    }
   ],
   "source": [
    "!rasa test nlu --help"
   ]
  },
  {
   "cell_type": "markdown",
   "metadata": {},
   "source": [
    "### Evaluation"
   ]
  },
  {
   "cell_type": "markdown",
   "metadata": {},
   "source": [
    "* O comando abaixo gera informações relevates para a validação das `intents` são elas:\n",
    "    * Matriz de confuzão\n",
    "    * Histograma\n",
    "    * Erros de intents"
   ]
  },
  {
   "cell_type": "code",
   "execution_count": 4,
   "metadata": {
    "scrolled": true
   },
   "outputs": [
    {
     "name": "stdout",
     "output_type": "stream",
     "text": [
      "/usr/local/lib/python3.6/site-packages/tensorflow/python/framework/dtypes.py:526: FutureWarning: Passing (type, 1) or '1type' as a synonym of type is deprecated; in a future version of numpy, it will be understood as (type, (1,)) / '(1,)type'.\n",
      "  _np_qint8 = np.dtype([(\"qint8\", np.int8, 1)])\n",
      "/usr/local/lib/python3.6/site-packages/tensorflow/python/framework/dtypes.py:527: FutureWarning: Passing (type, 1) or '1type' as a synonym of type is deprecated; in a future version of numpy, it will be understood as (type, (1,)) / '(1,)type'.\n",
      "  _np_quint8 = np.dtype([(\"quint8\", np.uint8, 1)])\n",
      "/usr/local/lib/python3.6/site-packages/tensorflow/python/framework/dtypes.py:528: FutureWarning: Passing (type, 1) or '1type' as a synonym of type is deprecated; in a future version of numpy, it will be understood as (type, (1,)) / '(1,)type'.\n",
      "  _np_qint16 = np.dtype([(\"qint16\", np.int16, 1)])\n",
      "/usr/local/lib/python3.6/site-packages/tensorflow/python/framework/dtypes.py:529: FutureWarning: Passing (type, 1) or '1type' as a synonym of type is deprecated; in a future version of numpy, it will be understood as (type, (1,)) / '(1,)type'.\n",
      "  _np_quint16 = np.dtype([(\"quint16\", np.uint16, 1)])\n",
      "/usr/local/lib/python3.6/site-packages/tensorflow/python/framework/dtypes.py:530: FutureWarning: Passing (type, 1) or '1type' as a synonym of type is deprecated; in a future version of numpy, it will be understood as (type, (1,)) / '(1,)type'.\n",
      "  _np_qint32 = np.dtype([(\"qint32\", np.int32, 1)])\n",
      "/usr/local/lib/python3.6/site-packages/tensorflow/python/framework/dtypes.py:535: FutureWarning: Passing (type, 1) or '1type' as a synonym of type is deprecated; in a future version of numpy, it will be understood as (type, (1,)) / '(1,)type'.\n",
      "  np_resource = np.dtype([(\"resource\", np.ubyte, 1)])\n",
      "2019-08-13 19:04:24 \u001b[1;30mINFO    \u001b[0m \u001b[34mrasa.nlu.test\u001b[0m  - Running model for predictions:\n",
      "100%|████████████████████████████████████████| 314/314 [00:00<00:00, 747.81it/s]\n",
      "2019-08-13 19:04:24 \u001b[1;30mINFO    \u001b[0m \u001b[34mrasa.nlu.test\u001b[0m  - Intent evaluation results:\n",
      "2019-08-13 19:04:24 \u001b[1;30mINFO    \u001b[0m \u001b[34mrasa.nlu.test\u001b[0m  - Intent Evaluation: Only considering those 314 examples that have a defined intent out of 314 examples\n",
      "2019-08-13 19:04:24 \u001b[1;30mINFO    \u001b[0m \u001b[34mrasa.nlu.test\u001b[0m  - F1-Score:  0.9968053976059585\n",
      "2019-08-13 19:04:24 \u001b[1;30mINFO    \u001b[0m \u001b[34mrasa.nlu.test\u001b[0m  - Precision: 0.9968731905037637\n",
      "2019-08-13 19:04:24 \u001b[1;30mINFO    \u001b[0m \u001b[34mrasa.nlu.test\u001b[0m  - Accuracy:  0.9968152866242038\n",
      "2019-08-13 19:04:24 \u001b[1;30mINFO    \u001b[0m \u001b[34mrasa.nlu.test\u001b[0m  - Classification report: \n",
      "                     precision    recall  f1-score   support\n",
      "\n",
      "             affirm       1.00      1.00      1.00        28\n",
      "      ask_how_doing       1.00      1.00      1.00        23\n",
      "                bye       1.00      1.00      1.00        17\n",
      "               deny       1.00      1.00      1.00        23\n",
      "            elogios       1.00      1.00      1.00         4\n",
      "            explain       1.00      1.00      1.00        31\n",
      "              greet       1.00      1.00      1.00        21\n",
      "greet+ask_how_doing       1.00      1.00      1.00        11\n",
      "        i_wanna_buy       1.00      1.00      1.00        16\n",
      "       i_wanna_rent       1.00      1.00      1.00        15\n",
      "       i_wanna_sell       1.00      1.00      1.00        15\n",
      " inform_preferences       1.00      0.97      0.98        33\n",
      "          lead_data       0.98      1.00      0.99        54\n",
      "       out_of_scope       1.00      1.00      1.00         5\n",
      "    what_know_about       1.00      1.00      1.00        18\n",
      "\n",
      "          micro avg       1.00      1.00      1.00       314\n",
      "          macro avg       1.00      1.00      1.00       314\n",
      "       weighted avg       1.00      1.00      1.00       314\n",
      "\n",
      "2019-08-13 19:04:24 \u001b[1;30mINFO    \u001b[0m \u001b[34mrasa.nlu.test\u001b[0m  - Model prediction errors saved to errors.json.\n",
      "2019-08-13 19:04:25 \u001b[1;30mINFO    \u001b[0m \u001b[34mrasa.nlu.test\u001b[0m  - Confusion matrix, without normalization: \n",
      "[[28  0  0  0  0  0  0  0  0  0  0  0  0  0  0]\n",
      " [ 0 23  0  0  0  0  0  0  0  0  0  0  0  0  0]\n",
      " [ 0  0 17  0  0  0  0  0  0  0  0  0  0  0  0]\n",
      " [ 0  0  0 23  0  0  0  0  0  0  0  0  0  0  0]\n",
      " [ 0  0  0  0  4  0  0  0  0  0  0  0  0  0  0]\n",
      " [ 0  0  0  0  0 31  0  0  0  0  0  0  0  0  0]\n",
      " [ 0  0  0  0  0  0 21  0  0  0  0  0  0  0  0]\n",
      " [ 0  0  0  0  0  0  0 11  0  0  0  0  0  0  0]\n",
      " [ 0  0  0  0  0  0  0  0 16  0  0  0  0  0  0]\n",
      " [ 0  0  0  0  0  0  0  0  0 15  0  0  0  0  0]\n",
      " [ 0  0  0  0  0  0  0  0  0  0 15  0  0  0  0]\n",
      " [ 0  0  0  0  0  0  0  0  0  0  0 32  1  0  0]\n",
      " [ 0  0  0  0  0  0  0  0  0  0  0  0 54  0  0]\n",
      " [ 0  0  0  0  0  0  0  0  0  0  0  0  0  5  0]\n",
      " [ 0  0  0  0  0  0  0  0  0  0  0  0  0  0 18]]\n",
      "Figure(2000x2000)\n",
      "Figure(1000x1000)\n",
      "2019-08-13 19:04:28 \u001b[1;30mINFO    \u001b[0m \u001b[34mrasa.nlu.test\u001b[0m  - Entity evaluation results:\n",
      "2019-08-13 19:04:28 \u001b[1;30mINFO    \u001b[0m \u001b[34mrasa.nlu.test\u001b[0m  - Evaluation for entity extractor: CRFEntityExtractor \n",
      "2019-08-13 19:04:28 \u001b[1;30mINFO    \u001b[0m \u001b[34mrasa.nlu.test\u001b[0m  - F1-Score:  0.9988283857544729\n",
      "2019-08-13 19:04:28 \u001b[1;30mINFO    \u001b[0m \u001b[34mrasa.nlu.test\u001b[0m  - Precision: 0.9988347777063967\n",
      "2019-08-13 19:04:28 \u001b[1;30mINFO    \u001b[0m \u001b[34mrasa.nlu.test\u001b[0m  - Accuracy:  0.9988331388564761\n",
      "2019-08-13 19:04:28 \u001b[1;30mINFO    \u001b[0m \u001b[34mrasa.nlu.test\u001b[0m  - Classification report: \n",
      "               precision    recall  f1-score   support\n",
      "\n",
      "         name       1.00      0.98      0.99        57\n",
      "    no_entity       1.00      1.00      1.00       711\n",
      "property_type       1.00      1.00      1.00        43\n",
      " trading_type       1.00      1.00      1.00        46\n",
      "\n",
      "    micro avg       1.00      1.00      1.00       857\n",
      "    macro avg       1.00      1.00      1.00       857\n",
      " weighted avg       1.00      1.00      1.00       857\n",
      "\n"
     ]
    }
   ],
   "source": [
    "!rasa test nlu -m $BOT_MODELS_PATH_NLU -u $BOT_INTENTS_PATH"
   ]
  },
  {
   "cell_type": "markdown",
   "metadata": {},
   "source": [
    "#### Matriz de Confuzão\n",
    "* A matriz de confuzão mostra a correlação entre as intents.\n",
    "* A diagonal principal tem forte correlação pois mostra a relação de uma intent **com ela mesma**\n",
    "* O ideal é que não haja **nenhum valor** diferente de **0 fora da diagonal principal**."
   ]
  },
  {
   "cell_type": "code",
   "execution_count": 5,
   "metadata": {
    "scrolled": false
   },
   "outputs": [
    {
     "data": {
      "text/html": [
       "\n",
       "        <iframe\n",
       "            width=\"900\"\n",
       "            height=\"700\"\n",
       "            src=\"./confmat.png\"\n",
       "            frameborder=\"0\"\n",
       "            allowfullscreen\n",
       "        ></iframe>\n",
       "        "
      ],
      "text/plain": [
       "<IPython.lib.display.IFrame at 0x7fad56f65320>"
      ]
     },
     "execution_count": 5,
     "metadata": {},
     "output_type": "execute_result"
    }
   ],
   "source": [
    "from IPython.display import IFrame\n",
    "IFrame(src='./confmat.png', width=900, height=700)"
   ]
  },
  {
   "cell_type": "markdown",
   "metadata": {},
   "source": [
    "#### Erros"
   ]
  },
  {
   "cell_type": "code",
   "execution_count": 6,
   "metadata": {
    "scrolled": true
   },
   "outputs": [
    {
     "name": "stdout",
     "output_type": "stream",
     "text": [
      "[\r\n",
      "  {\r\n",
      "    \"text\": \"R$ 600000\",\r\n",
      "    \"intent\": \"inform_preferences\",\r\n",
      "    \"intent_prediction\": {\r\n",
      "      \"name\": \"lead_data\",\r\n",
      "      \"confidence\": 0.8550623655319214\r\n",
      "    }\r\n",
      "  }\r\n",
      "]"
     ]
    }
   ],
   "source": [
    "%cat errors.json"
   ]
  },
  {
   "cell_type": "markdown",
   "metadata": {},
   "source": [
    "#### Histograma\n",
    "\n",
    "* O histograma contém a distribuição da predições das `intents`"
   ]
  },
  {
   "cell_type": "code",
   "execution_count": 7,
   "metadata": {
    "scrolled": false
   },
   "outputs": [
    {
     "data": {
      "text/html": [
       "\n",
       "        <iframe\n",
       "            width=\"900\"\n",
       "            height=\"700\"\n",
       "            src=\"./hist.png\"\n",
       "            frameborder=\"0\"\n",
       "            allowfullscreen\n",
       "        ></iframe>\n",
       "        "
      ],
      "text/plain": [
       "<IPython.lib.display.IFrame at 0x7fad56f65ba8>"
      ]
     },
     "execution_count": 7,
     "metadata": {},
     "output_type": "execute_result"
    }
   ],
   "source": [
    "IFrame(src='./hist.png', width=900, height=700)"
   ]
  },
  {
   "cell_type": "markdown",
   "metadata": {},
   "source": [
    "### Cross Validation"
   ]
  },
  {
   "cell_type": "code",
   "execution_count": 8,
   "metadata": {
    "scrolled": true
   },
   "outputs": [
    {
     "name": "stdout",
     "output_type": "stream",
     "text": [
      "/usr/local/lib/python3.6/site-packages/tensorflow/python/framework/dtypes.py:526: FutureWarning: Passing (type, 1) or '1type' as a synonym of type is deprecated; in a future version of numpy, it will be understood as (type, (1,)) / '(1,)type'.\n",
      "  _np_qint8 = np.dtype([(\"qint8\", np.int8, 1)])\n",
      "/usr/local/lib/python3.6/site-packages/tensorflow/python/framework/dtypes.py:527: FutureWarning: Passing (type, 1) or '1type' as a synonym of type is deprecated; in a future version of numpy, it will be understood as (type, (1,)) / '(1,)type'.\n",
      "  _np_quint8 = np.dtype([(\"quint8\", np.uint8, 1)])\n",
      "/usr/local/lib/python3.6/site-packages/tensorflow/python/framework/dtypes.py:528: FutureWarning: Passing (type, 1) or '1type' as a synonym of type is deprecated; in a future version of numpy, it will be understood as (type, (1,)) / '(1,)type'.\n",
      "  _np_qint16 = np.dtype([(\"qint16\", np.int16, 1)])\n",
      "/usr/local/lib/python3.6/site-packages/tensorflow/python/framework/dtypes.py:529: FutureWarning: Passing (type, 1) or '1type' as a synonym of type is deprecated; in a future version of numpy, it will be understood as (type, (1,)) / '(1,)type'.\n",
      "  _np_quint16 = np.dtype([(\"quint16\", np.uint16, 1)])\n",
      "/usr/local/lib/python3.6/site-packages/tensorflow/python/framework/dtypes.py:530: FutureWarning: Passing (type, 1) or '1type' as a synonym of type is deprecated; in a future version of numpy, it will be understood as (type, (1,)) / '(1,)type'.\n",
      "  _np_qint32 = np.dtype([(\"qint32\", np.int32, 1)])\n",
      "/usr/local/lib/python3.6/site-packages/tensorflow/python/framework/dtypes.py:535: FutureWarning: Passing (type, 1) or '1type' as a synonym of type is deprecated; in a future version of numpy, it will be understood as (type, (1,)) / '(1,)type'.\n",
      "  np_resource = np.dtype([(\"resource\", np.ubyte, 1)])\n",
      "2019-08-13 19:04:30 \u001b[1;30mINFO    \u001b[0m \u001b[34mrasa.cli.test\u001b[0m  - Test model using cross validation.\n",
      "2019-08-13 19:04:31 \u001b[1;30mINFO    \u001b[0m \u001b[34mrasa.nlu.model\u001b[0m  - Starting to train component WhitespaceTokenizer\n",
      "2019-08-13 19:04:31 \u001b[1;30mINFO    \u001b[0m \u001b[34mrasa.nlu.model\u001b[0m  - Finished training component.\n",
      "2019-08-13 19:04:31 \u001b[1;30mINFO    \u001b[0m \u001b[34mrasa.nlu.model\u001b[0m  - Starting to train component RegexFeaturizer\n",
      "2019-08-13 19:04:31 \u001b[1;30mINFO    \u001b[0m \u001b[34mrasa.nlu.model\u001b[0m  - Finished training component.\n",
      "2019-08-13 19:04:31 \u001b[1;30mINFO    \u001b[0m \u001b[34mrasa.nlu.model\u001b[0m  - Starting to train component CRFEntityExtractor\n",
      "2019-08-13 19:04:31 \u001b[1;30mINFO    \u001b[0m \u001b[34mrasa.nlu.model\u001b[0m  - Finished training component.\n",
      "2019-08-13 19:04:31 \u001b[1;30mINFO    \u001b[0m \u001b[34mrasa.nlu.model\u001b[0m  - Starting to train component EntitySynonymMapper\n",
      "2019-08-13 19:04:31 \u001b[1;30mINFO    \u001b[0m \u001b[34mrasa.nlu.model\u001b[0m  - Finished training component.\n",
      "2019-08-13 19:04:31 \u001b[1;30mINFO    \u001b[0m \u001b[34mrasa.nlu.model\u001b[0m  - Starting to train component CountVectorsFeaturizer\n",
      "2019-08-13 19:04:31 \u001b[1;30mINFO    \u001b[0m \u001b[34mrasa.nlu.model\u001b[0m  - Finished training component.\n",
      "2019-08-13 19:04:31 \u001b[1;30mINFO    \u001b[0m \u001b[34mrasa.nlu.model\u001b[0m  - Starting to train component EmbeddingIntentClassifier\n",
      "2019-08-13 19:04:32 \u001b[1;30mINFO    \u001b[0m \u001b[34mrasa.nlu.classifiers.embedding_intent_classifier\u001b[0m  - Accuracy is updated every 10 epochs\n",
      "Epochs: 100%|██████████| 300/300 [00:05<00:00, 53.70it/s, loss=0.104, acc=1.000]\n",
      "2019-08-13 19:04:38 \u001b[1;30mINFO    \u001b[0m \u001b[34mrasa.nlu.classifiers.embedding_intent_classifier\u001b[0m  - Finished training embedding classifier, loss=0.104, train accuracy=1.000\n",
      "2019-08-13 19:04:38 \u001b[1;30mINFO    \u001b[0m \u001b[34mrasa.nlu.model\u001b[0m  - Finished training component.\n",
      "2019-08-13 19:04:38 \u001b[1;30mINFO    \u001b[0m \u001b[34mrasa.nlu.test\u001b[0m  - Running model for predictions:\n",
      "100%|████████████████████████████████████████| 152/152 [00:00<00:00, 718.69it/s]\n",
      "2019-08-13 19:04:38 \u001b[1;30mINFO    \u001b[0m \u001b[34mrasa.nlu.test\u001b[0m  - Running model for predictions:\n",
      "100%|████████████████████████████████████████| 162/162 [00:00<00:00, 656.45it/s]\n",
      "/usr/local/lib/python3.6/site-packages/sklearn/metrics/classification.py:1143: UndefinedMetricWarning: Precision and F-score are ill-defined and being set to 0.0 in labels with no predicted samples.\n",
      "  'precision', 'predicted', average, warn_for)\n",
      "/usr/local/lib/python3.6/site-packages/sklearn/metrics/classification.py:1145: UndefinedMetricWarning: Recall and F-score are ill-defined and being set to 0.0 in labels with no true samples.\n",
      "  'recall', 'true', average, warn_for)\n",
      "/usr/local/lib/python3.6/site-packages/sklearn/metrics/classification.py:1143: UndefinedMetricWarning: Precision is ill-defined and being set to 0.0 in labels with no predicted samples.\n",
      "  'precision', 'predicted', average, warn_for)\n",
      "/usr/local/lib/python3.6/site-packages/sklearn/metrics/classification.py:1143: UndefinedMetricWarning: F-score is ill-defined and being set to 0.0 in labels with no predicted samples.\n",
      "  'precision', 'predicted', average, warn_for)\n",
      "/usr/local/lib/python3.6/site-packages/sklearn/metrics/classification.py:1145: UndefinedMetricWarning: F-score is ill-defined and being set to 0.0 in labels with no true samples.\n",
      "  'recall', 'true', average, warn_for)\n",
      "2019-08-13 19:04:38 \u001b[1;30mINFO    \u001b[0m \u001b[34mrasa.nlu.model\u001b[0m  - Starting to train component WhitespaceTokenizer\n",
      "2019-08-13 19:04:38 \u001b[1;30mINFO    \u001b[0m \u001b[34mrasa.nlu.model\u001b[0m  - Finished training component.\n",
      "2019-08-13 19:04:38 \u001b[1;30mINFO    \u001b[0m \u001b[34mrasa.nlu.model\u001b[0m  - Starting to train component RegexFeaturizer\n",
      "2019-08-13 19:04:38 \u001b[1;30mINFO    \u001b[0m \u001b[34mrasa.nlu.model\u001b[0m  - Finished training component.\n",
      "2019-08-13 19:04:38 \u001b[1;30mINFO    \u001b[0m \u001b[34mrasa.nlu.model\u001b[0m  - Starting to train component CRFEntityExtractor\n",
      "2019-08-13 19:04:38 \u001b[1;30mINFO    \u001b[0m \u001b[34mrasa.nlu.model\u001b[0m  - Finished training component.\n",
      "2019-08-13 19:04:38 \u001b[1;30mINFO    \u001b[0m \u001b[34mrasa.nlu.model\u001b[0m  - Starting to train component EntitySynonymMapper\n",
      "2019-08-13 19:04:38 \u001b[1;30mINFO    \u001b[0m \u001b[34mrasa.nlu.model\u001b[0m  - Finished training component.\n",
      "2019-08-13 19:04:38 \u001b[1;30mINFO    \u001b[0m \u001b[34mrasa.nlu.model\u001b[0m  - Starting to train component CountVectorsFeaturizer\n",
      "2019-08-13 19:04:38 \u001b[1;30mINFO    \u001b[0m \u001b[34mrasa.nlu.model\u001b[0m  - Finished training component.\n",
      "2019-08-13 19:04:38 \u001b[1;30mINFO    \u001b[0m \u001b[34mrasa.nlu.model\u001b[0m  - Starting to train component EmbeddingIntentClassifier\n",
      "2019-08-13 19:04:39 \u001b[1;30mINFO    \u001b[0m \u001b[34mrasa.nlu.classifiers.embedding_intent_classifier\u001b[0m  - Accuracy is updated every 10 epochs\n",
      "Epochs: 100%|██████████| 300/300 [00:06<00:00, 48.67it/s, loss=0.098, acc=0.994]\n",
      "2019-08-13 19:04:45 \u001b[1;30mINFO    \u001b[0m \u001b[34mrasa.nlu.classifiers.embedding_intent_classifier\u001b[0m  - Finished training embedding classifier, loss=0.098, train accuracy=0.994\n",
      "2019-08-13 19:04:45 \u001b[1;30mINFO    \u001b[0m \u001b[34mrasa.nlu.model\u001b[0m  - Finished training component.\n",
      "2019-08-13 19:04:45 \u001b[1;30mINFO    \u001b[0m \u001b[34mrasa.nlu.test\u001b[0m  - Running model for predictions:\n",
      "100%|████████████████████████████████████████| 162/162 [00:00<00:00, 702.48it/s]\n",
      "2019-08-13 19:04:45 \u001b[1;30mINFO    \u001b[0m \u001b[34mrasa.nlu.test\u001b[0m  - Running model for predictions:\n",
      "100%|████████████████████████████████████████| 152/152 [00:00<00:00, 894.03it/s]\n",
      "/usr/local/lib/python3.6/site-packages/sklearn/metrics/classification.py:1143: UndefinedMetricWarning: Precision and F-score are ill-defined and being set to 0.0 in labels with no predicted samples.\n",
      "  'precision', 'predicted', average, warn_for)\n",
      "/usr/local/lib/python3.6/site-packages/sklearn/metrics/classification.py:1145: UndefinedMetricWarning: Recall and F-score are ill-defined and being set to 0.0 in labels with no true samples.\n",
      "  'recall', 'true', average, warn_for)\n",
      "/usr/local/lib/python3.6/site-packages/sklearn/metrics/classification.py:1143: UndefinedMetricWarning: Precision is ill-defined and being set to 0.0 in labels with no predicted samples.\n",
      "  'precision', 'predicted', average, warn_for)\n",
      "/usr/local/lib/python3.6/site-packages/sklearn/metrics/classification.py:1143: UndefinedMetricWarning: F-score is ill-defined and being set to 0.0 in labels with no predicted samples.\n",
      "  'precision', 'predicted', average, warn_for)\n",
      "/usr/local/lib/python3.6/site-packages/sklearn/metrics/classification.py:1145: UndefinedMetricWarning: F-score is ill-defined and being set to 0.0 in labels with no true samples.\n",
      "  'recall', 'true', average, warn_for)\n"
     ]
    },
    {
     "name": "stdout",
     "output_type": "stream",
     "text": [
      "2019-08-13 19:04:45 \u001b[1;30mINFO    \u001b[0m \u001b[34mrasa.nlu.test\u001b[0m  - Accumulated test folds intent evaluation results:\n",
      "2019-08-13 19:04:45 \u001b[1;30mINFO    \u001b[0m \u001b[34mrasa.nlu.test\u001b[0m  - Intent Evaluation: Only considering those 314 examples that have a defined intent out of 314 examples\n",
      "2019-08-13 19:04:45 \u001b[1;30mINFO    \u001b[0m \u001b[34mrasa.nlu.test\u001b[0m  - Classification report saved to reports/intent_report.json.\n",
      "2019-08-13 19:04:46 \u001b[1;30mINFO    \u001b[0m \u001b[34mrasa.nlu.test\u001b[0m  - Model prediction errors saved to errors.json.\n",
      "2019-08-13 19:04:46 \u001b[1;30mINFO    \u001b[0m \u001b[34mrasa.nlu.test\u001b[0m  - Confusion matrix, without normalization: \n",
      "[[ 0  0  0  0  0  0  0  0  0  0  0  0  0  0  0  0]\n",
      " [ 4 19  0  0  1  0  1  0  0  0  0  0  1  1  0  1]\n",
      " [ 3  0 16  0  0  0  0  0  4  0  0  0  0  0  0  0]\n",
      " [ 6  2  0  6  2  0  0  0  0  0  0  0  0  1  0  0]\n",
      " [ 3  0  0  0 18  0  2  0  0  0  0  0  0  0  0  0]\n",
      " [ 1  0  0  0  0  1  1  0  0  0  0  0  0  0  0  1]\n",
      " [ 0  1  1  1  8  0 16  1  0  0  0  1  0  1  0  1]\n",
      " [ 5  0  1  0  1  0  0 10  1  1  0  0  1  1  0  0]\n",
      " [ 0  0  2  0  0  0  1  1  7  0  0  0  0  0  0  0]\n",
      " [ 0  1  0  0  0  0  0  1  0 11  2  1  0  0  0  0]\n",
      " [ 0  0  0  0  0  0  0  0  0  2  7  5  1  0  0  0]\n",
      " [ 0  0  0  0  0  0  0  0  0  5  5  5  0  0  0  0]\n",
      " [ 4  0  0  0  0  0  0  0  0  0  1  2 13 13  0  0]\n",
      " [19  0  0  0  1  0  0  0  0  0  0  0  0 33  0  1]\n",
      " [ 2  0  0  2  0  0  0  0  0  0  0  0  0  0  0  1]\n",
      " [ 6  1  0  0  1  0  2  0  0  0  0  0  1  0  0  7]]\n",
      "Figure(2000x2000)\n",
      "Figure(1000x1000)\n",
      "2019-08-13 19:04:49 \u001b[1;30mINFO    \u001b[0m \u001b[34mrasa.nlu.test\u001b[0m  - Accumulated test folds entity evaluation results:\n",
      "2019-08-13 19:04:49 \u001b[1;30mINFO    \u001b[0m \u001b[34mrasa.nlu.test\u001b[0m  - Evaluation for entity extractor: CRFEntityExtractor \n",
      "2019-08-13 19:04:49 \u001b[1;30mINFO    \u001b[0m \u001b[34mrasa.nlu.test\u001b[0m  - Classification report for 'CRFEntityExtractor' saved to 'reports/CRFEntityExtractor_report.json'.\n",
      "2019-08-13 19:04:49 \u001b[1;30mINFO    \u001b[0m \u001b[34mrasa.test\u001b[0m  - CV evaluation (n=2)\n",
      "2019-08-13 19:04:49 \u001b[1;30mINFO    \u001b[0m \u001b[34mrasa.test\u001b[0m  - Intent evaluation results\n",
      "2019-08-13 19:04:49 \u001b[1;30mINFO    \u001b[0m \u001b[34mrasa.nlu.test\u001b[0m  - train Accuracy: 0.997 (0.003)\n",
      "2019-08-13 19:04:49 \u001b[1;30mINFO    \u001b[0m \u001b[34mrasa.nlu.test\u001b[0m  - train F1-score: 0.997 (0.003)\n",
      "2019-08-13 19:04:49 \u001b[1;30mINFO    \u001b[0m \u001b[34mrasa.nlu.test\u001b[0m  - train Precision: 0.997 (0.003)\n",
      "2019-08-13 19:04:49 \u001b[1;30mINFO    \u001b[0m \u001b[34mrasa.nlu.test\u001b[0m  - test Accuracy: 0.539 (0.027)\n",
      "2019-08-13 19:04:49 \u001b[1;30mINFO    \u001b[0m \u001b[34mrasa.nlu.test\u001b[0m  - test F1-score: 0.575 (0.024)\n",
      "2019-08-13 19:04:49 \u001b[1;30mINFO    \u001b[0m \u001b[34mrasa.nlu.test\u001b[0m  - test Precision: 0.657 (0.006)\n",
      "2019-08-13 19:04:49 \u001b[1;30mINFO    \u001b[0m \u001b[34mrasa.test\u001b[0m  - Entity evaluation results\n",
      "2019-08-13 19:04:49 \u001b[1;30mINFO    \u001b[0m \u001b[34mrasa.nlu.test\u001b[0m  - Entity extractor: CRFEntityExtractor\n",
      "2019-08-13 19:04:49 \u001b[1;30mINFO    \u001b[0m \u001b[34mrasa.nlu.test\u001b[0m  - train Accuracy: 1.000 (0.000)\n",
      "2019-08-13 19:04:49 \u001b[1;30mINFO    \u001b[0m \u001b[34mrasa.nlu.test\u001b[0m  - train F1-score: 1.000 (0.000)\n",
      "2019-08-13 19:04:49 \u001b[1;30mINFO    \u001b[0m \u001b[34mrasa.nlu.test\u001b[0m  - train Precision: 1.000 (0.000)\n",
      "2019-08-13 19:04:49 \u001b[1;30mINFO    \u001b[0m \u001b[34mrasa.nlu.test\u001b[0m  - Entity extractor: CRFEntityExtractor\n",
      "2019-08-13 19:04:49 \u001b[1;30mINFO    \u001b[0m \u001b[34mrasa.nlu.test\u001b[0m  - test Accuracy: 0.926 (0.009)\n",
      "2019-08-13 19:04:49 \u001b[1;30mINFO    \u001b[0m \u001b[34mrasa.nlu.test\u001b[0m  - test F1-score: 0.898 (0.019)\n",
      "2019-08-13 19:04:49 \u001b[1;30mINFO    \u001b[0m \u001b[34mrasa.nlu.test\u001b[0m  - test Precision: 0.891 (0.047)\n"
     ]
    }
   ],
   "source": [
    "!rasa test nlu -u $BOT_INTENTS_PATH -c $BOT_CONFIG_PATH --cross-validation --folds 2 --report"
   ]
  },
  {
   "cell_type": "markdown",
   "metadata": {},
   "source": [
    "#### Histograma Cross Validation"
   ]
  },
  {
   "cell_type": "code",
   "execution_count": 10,
   "metadata": {},
   "outputs": [
    {
     "data": {
      "text/html": [
       "\n",
       "        <iframe\n",
       "            width=\"900\"\n",
       "            height=\"700\"\n",
       "            src=\"./hist.png\"\n",
       "            frameborder=\"0\"\n",
       "            allowfullscreen\n",
       "        ></iframe>\n",
       "        "
      ],
      "text/plain": [
       "<IPython.lib.display.IFrame at 0x7fad56f65860>"
      ]
     },
     "execution_count": 10,
     "metadata": {},
     "output_type": "execute_result"
    }
   ],
   "source": [
    "IFrame(src='./hist.png', width=900, height=700)"
   ]
  },
  {
   "cell_type": "markdown",
   "metadata": {},
   "source": [
    "## Referências:\n",
    "\n",
    "O Rasa está em constante evolução, alguns links úteis para a construção deste jupyter-notebook e para a análise das `intents` são:\n",
    "\n",
    "* [Evaluation](https://rasa.com/docs/nlu/evaluation/)"
   ]
  }
 ],
 "metadata": {
  "colab": {
   "collapsed_sections": [
    "y4miuS-TqYcn",
    "BBF6Nqi9scQE",
    "Fs3nOUzBsqrG",
    "5MnGuFRpzzBh"
   ],
   "default_view": {},
   "name": "Building a Simple Bot with Rasa Stack - Tutorial",
   "provenance": [
    {
     "file_id": "1GutDkDXmfU-nRzNH7Pxxx8YpdvLUw9LO",
     "timestamp": 1521183725373
    }
   ],
   "toc_visible": true,
   "version": "0.3.2",
   "views": {}
  },
  "kernelspec": {
   "display_name": "Python 3",
   "language": "python",
   "name": "python3"
  },
  "language_info": {
   "codemirror_mode": {
    "name": "ipython",
    "version": 3
   },
   "file_extension": ".py",
   "mimetype": "text/x-python",
   "name": "python",
   "nbconvert_exporter": "python",
   "pygments_lexer": "ipython3",
   "version": "3.6.9"
  }
 },
 "nbformat": 4,
 "nbformat_minor": 1
}
