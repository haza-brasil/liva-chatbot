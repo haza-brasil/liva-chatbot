{
 "cells": [
  {
   "cell_type": "markdown",
   "metadata": {
    "colab_type": "text",
    "id": "kO9wt2g3okLS"
   },
   "source": [
    "# Análise das Stories\n",
    "\n",
    "Notebook para o auxílio da análise das stories do chatbot."
   ]
  },
  {
   "cell_type": "markdown",
   "metadata": {},
   "source": [
    "### Configurando e Imports"
   ]
  },
  {
   "cell_type": "code",
   "execution_count": 1,
   "metadata": {},
   "outputs": [
    {
     "name": "stdout",
     "output_type": "stream",
     "text": [
      "Versões utilizadas neste jupyter notebook:\n",
      "rasa: 1.2.0\n"
     ]
    }
   ],
   "source": [
    "import rasa\n",
    "\n",
    "print(\"Versões utilizadas neste jupyter notebook:\")\n",
    "print(\"rasa: {}\".format(rasa.__version__))\n"
   ]
  },
  {
   "cell_type": "markdown",
   "metadata": {
    "colab_type": "text",
    "id": "tK5os3OinphP"
   },
   "source": [
    "## Análise e Avaliação das Stories"
   ]
  },
  {
   "cell_type": "markdown",
   "metadata": {
    "colab_type": "text",
    "id": "qWALQbCdwGxK"
   },
   "source": [
    "### Visualizaçõa do Fluxo de Conversa\n",
    "\n",
    "O comando abaixo monta um grafo com a relação das `intents` e `utters` do chatbot, ou seja, você vai conseguir visualizar o fluxo de conversa do seu chatbot.\n",
    "\n",
    "Esta visualização é importante para verificar possíveis problemas na estrutura do seu chatbot e se ele realmente chega em determinadas \"**falas**\" da conversa."
   ]
  },
  {
   "cell_type": "code",
   "execution_count": 2,
   "metadata": {},
   "outputs": [
    {
     "name": "stdout",
     "output_type": "stream",
     "text": [
      "/usr/local/lib/python3.6/site-packages/tensorflow/python/framework/dtypes.py:526: FutureWarning: Passing (type, 1) or '1type' as a synonym of type is deprecated; in a future version of numpy, it will be understood as (type, (1,)) / '(1,)type'.\n",
      "  _np_qint8 = np.dtype([(\"qint8\", np.int8, 1)])\n",
      "/usr/local/lib/python3.6/site-packages/tensorflow/python/framework/dtypes.py:527: FutureWarning: Passing (type, 1) or '1type' as a synonym of type is deprecated; in a future version of numpy, it will be understood as (type, (1,)) / '(1,)type'.\n",
      "  _np_quint8 = np.dtype([(\"quint8\", np.uint8, 1)])\n",
      "/usr/local/lib/python3.6/site-packages/tensorflow/python/framework/dtypes.py:528: FutureWarning: Passing (type, 1) or '1type' as a synonym of type is deprecated; in a future version of numpy, it will be understood as (type, (1,)) / '(1,)type'.\n",
      "  _np_qint16 = np.dtype([(\"qint16\", np.int16, 1)])\n",
      "/usr/local/lib/python3.6/site-packages/tensorflow/python/framework/dtypes.py:529: FutureWarning: Passing (type, 1) or '1type' as a synonym of type is deprecated; in a future version of numpy, it will be understood as (type, (1,)) / '(1,)type'.\n",
      "  _np_quint16 = np.dtype([(\"quint16\", np.uint16, 1)])\n",
      "/usr/local/lib/python3.6/site-packages/tensorflow/python/framework/dtypes.py:530: FutureWarning: Passing (type, 1) or '1type' as a synonym of type is deprecated; in a future version of numpy, it will be understood as (type, (1,)) / '(1,)type'.\n",
      "  _np_qint32 = np.dtype([(\"qint32\", np.int32, 1)])\n",
      "/usr/local/lib/python3.6/site-packages/tensorflow/python/framework/dtypes.py:535: FutureWarning: Passing (type, 1) or '1type' as a synonym of type is deprecated; in a future version of numpy, it will be understood as (type, (1,)) / '(1,)type'.\n",
      "  np_resource = np.dtype([(\"resource\", np.ubyte, 1)])\n",
      "2019-08-13 18:12:05 \u001b[1;30mINFO    \u001b[0m \u001b[34mrasa.core.visualize\u001b[0m  - Starting to visualize stories...\n",
      "Processed Story Blocks: 100%|███| 21/21 [00:00<00:00, 1010.40it/s, # trackers=1]\n",
      "2019-08-13 18:12:05 \u001b[1;30mINFO    \u001b[0m \u001b[34mrasa.core.visualize\u001b[0m  - Finished graph creation. Saved into file:///work/notebooks/stories/chat_graph.html\n"
     ]
    }
   ],
   "source": [
    "!rasa visualize -c $BOT_CONFIG_PATH -d $BOT_DOMAIN_PATH -s $BOT_STORIES_PATH --out chat_graph.html"
   ]
  },
  {
   "cell_type": "markdown",
   "metadata": {},
   "source": [
    "O Rasa gerou uma página `html` com o grafo de conversa, para facilitar, você pode visualizar o grafo no arquivo `chat_graph.html` aqui na próxima celula.\n",
    "\n",
    "Use o mouse para dar zoom e arrastar sobre o conteúdo do grafo. Altere `width` e `height` se desejar.\n",
    "\n",
    "* Dica: caso você se perca com **zoom in** ou **zoom out** no grafo, apeas re-execute a célula abaixo e ele irá reaparecer na célula."
   ]
  },
  {
   "cell_type": "code",
   "execution_count": 3,
   "metadata": {},
   "outputs": [
    {
     "data": {
      "text/html": [
       "\n",
       "        <iframe\n",
       "            width=\"900\"\n",
       "            height=\"700\"\n",
       "            src=\"./chat_graph.html\"\n",
       "            frameborder=\"0\"\n",
       "            allowfullscreen\n",
       "        ></iframe>\n",
       "        "
      ],
      "text/plain": [
       "<IPython.lib.display.IFrame at 0x7f4ef9435710>"
      ]
     },
     "execution_count": 3,
     "metadata": {},
     "output_type": "execute_result"
    }
   ],
   "source": [
    "from IPython.display import IFrame\n",
    "IFrame(src='./chat_graph.html', width=900, height=700)"
   ]
  },
  {
   "cell_type": "markdown",
   "metadata": {},
   "source": [
    "### Avaliação das Stories\n",
    "\n",
    "Outra forma de analisar seu chatbot é por meio da própria avaliação do Rasa, ele gera uma matriz de confuzão com os dados fornecidos nas `stories` e do resultado do treinamento armazenado na pasta `models`."
   ]
  },
  {
   "cell_type": "markdown",
   "metadata": {},
   "source": [
    "* Caso você ainda não tenha treinado seu chatbot execute a céclula abaixo para treina-lo."
   ]
  },
  {
   "cell_type": "code",
   "execution_count": 4,
   "metadata": {},
   "outputs": [
    {
     "name": "stdout",
     "output_type": "stream",
     "text": [
      "make: Entering directory '/work/bot'\n",
      "rasa train --fixed-model-name current --verbose\n",
      "/usr/local/lib/python3.6/site-packages/tensorflow/python/framework/dtypes.py:526: FutureWarning: Passing (type, 1) or '1type' as a synonym of type is deprecated; in a future version of numpy, it will be understood as (type, (1,)) / '(1,)type'.\n",
      "  _np_qint8 = np.dtype([(\"qint8\", np.int8, 1)])\n",
      "/usr/local/lib/python3.6/site-packages/tensorflow/python/framework/dtypes.py:527: FutureWarning: Passing (type, 1) or '1type' as a synonym of type is deprecated; in a future version of numpy, it will be understood as (type, (1,)) / '(1,)type'.\n",
      "  _np_quint8 = np.dtype([(\"quint8\", np.uint8, 1)])\n",
      "/usr/local/lib/python3.6/site-packages/tensorflow/python/framework/dtypes.py:528: FutureWarning: Passing (type, 1) or '1type' as a synonym of type is deprecated; in a future version of numpy, it will be understood as (type, (1,)) / '(1,)type'.\n",
      "  _np_qint16 = np.dtype([(\"qint16\", np.int16, 1)])\n",
      "/usr/local/lib/python3.6/site-packages/tensorflow/python/framework/dtypes.py:529: FutureWarning: Passing (type, 1) or '1type' as a synonym of type is deprecated; in a future version of numpy, it will be understood as (type, (1,)) / '(1,)type'.\n",
      "  _np_quint16 = np.dtype([(\"quint16\", np.uint16, 1)])\n",
      "/usr/local/lib/python3.6/site-packages/tensorflow/python/framework/dtypes.py:530: FutureWarning: Passing (type, 1) or '1type' as a synonym of type is deprecated; in a future version of numpy, it will be understood as (type, (1,)) / '(1,)type'.\n",
      "  _np_qint32 = np.dtype([(\"qint32\", np.int32, 1)])\n",
      "/usr/local/lib/python3.6/site-packages/tensorflow/python/framework/dtypes.py:535: FutureWarning: Passing (type, 1) or '1type' as a synonym of type is deprecated; in a future version of numpy, it will be understood as (type, (1,)) / '(1,)type'.\n",
      "  np_resource = np.dtype([(\"resource\", np.ubyte, 1)])\n",
      "2019-08-13 18:12:08 \u001b[1;30mINFO    \u001b[0m \u001b[34mrasa.model\u001b[0m  - Data (stories) for Core model changed.\n",
      "\u001b[94mTraining Core model...\u001b[0m\n",
      "Processed Story Blocks: 100%|███| 21/21 [00:00<00:00, 1074.03it/s, # trackers=1]\n",
      "Processed Story Blocks: 100%|████| 21/21 [00:00<00:00, 54.34it/s, # trackers=18]\n",
      "Processed Story Blocks: 100%|████| 21/21 [00:00<00:00, 28.17it/s, # trackers=39]\n",
      "Processed Story Blocks: 100%|████| 21/21 [00:00<00:00, 26.84it/s, # trackers=37]\n",
      "Processed trackers: 100%|████| 521/521 [00:00<00:00, 965.55it/s, # actions=1807]\n",
      "_________________________________________________________________\n",
      "Layer (type)                 Output Shape              Param #   \n",
      "=================================================================\n",
      "masking (Masking)            (None, 10, 86)            0         \n",
      "_________________________________________________________________\n",
      "lstm (LSTM)                  (None, 16)                6592      \n",
      "_________________________________________________________________\n",
      "dense (Dense)                (None, 59)                1003      \n",
      "_________________________________________________________________\n",
      "activation (Activation)      (None, 59)                0         \n",
      "=================================================================\n",
      "Total params: 7,595\n",
      "Trainable params: 7,595\n",
      "Non-trainable params: 0\n",
      "_________________________________________________________________\n",
      "2019-08-13 18:12:13 \u001b[1;30mINFO    \u001b[0m \u001b[34mrasa.core.policies.keras_policy\u001b[0m  - Fitting model with 1807 total samples and a validation split of 0.1\n",
      "Epoch 1/50\n",
      "1807/1807 [==============================] - 1s 573us/sample - loss: 3.8817 - acc: 0.2822\n",
      "Epoch 2/50\n",
      "1807/1807 [==============================] - 0s 264us/sample - loss: 2.9474 - acc: 0.4151\n",
      "Epoch 3/50\n",
      "1807/1807 [==============================] - 0s 237us/sample - loss: 2.4515 - acc: 0.4151\n",
      "Epoch 4/50\n",
      "1807/1807 [==============================] - 1s 279us/sample - loss: 2.3357 - acc: 0.4151\n",
      "Epoch 5/50\n",
      "1807/1807 [==============================] - 0s 269us/sample - loss: 2.2735 - acc: 0.4151\n",
      "Epoch 6/50\n",
      "1807/1807 [==============================] - 1s 279us/sample - loss: 2.2299 - acc: 0.4151\n",
      "Epoch 7/50\n",
      "1807/1807 [==============================] - 1s 297us/sample - loss: 2.1844 - acc: 0.4151\n",
      "Epoch 8/50\n",
      "1807/1807 [==============================] - 1s 282us/sample - loss: 2.1283 - acc: 0.4151\n",
      "Epoch 9/50\n",
      "1807/1807 [==============================] - 0s 240us/sample - loss: 2.0732 - acc: 0.4151\n",
      "Epoch 10/50\n",
      "1807/1807 [==============================] - 0s 240us/sample - loss: 2.0116 - acc: 0.4151\n",
      "Epoch 11/50\n",
      "1807/1807 [==============================] - 0s 260us/sample - loss: 1.9513 - acc: 0.4151\n",
      "Epoch 12/50\n",
      "1807/1807 [==============================] - 0s 247us/sample - loss: 1.8843 - acc: 0.4151\n",
      "Epoch 13/50\n",
      "1807/1807 [==============================] - 1s 285us/sample - loss: 1.8222 - acc: 0.4151\n",
      "Epoch 14/50\n",
      "1807/1807 [==============================] - 0s 258us/sample - loss: 1.7539 - acc: 0.4167\n",
      "Epoch 15/50\n",
      "1807/1807 [==============================] - 0s 255us/sample - loss: 1.6569 - acc: 0.4234\n",
      "Epoch 16/50\n",
      "1807/1807 [==============================] - 0s 256us/sample - loss: 1.5770 - acc: 0.4831\n",
      "Epoch 17/50\n",
      "1807/1807 [==============================] - 0s 246us/sample - loss: 1.4914 - acc: 0.5390\n",
      "Epoch 18/50\n",
      "1807/1807 [==============================] - 0s 245us/sample - loss: 1.4101 - acc: 0.5717\n",
      "Epoch 19/50\n",
      "1807/1807 [==============================] - 0s 257us/sample - loss: 1.3425 - acc: 0.6038\n",
      "Epoch 20/50\n",
      "1807/1807 [==============================] - 0s 251us/sample - loss: 1.2771 - acc: 0.6121\n",
      "Epoch 21/50\n",
      "1807/1807 [==============================] - 0s 243us/sample - loss: 1.2194 - acc: 0.6320\n",
      "Epoch 22/50\n",
      "1807/1807 [==============================] - 0s 242us/sample - loss: 1.1697 - acc: 0.6735\n",
      "Epoch 23/50\n",
      "1807/1807 [==============================] - 1s 314us/sample - loss: 1.1121 - acc: 0.7128\n",
      "Epoch 24/50\n",
      "1807/1807 [==============================] - 0s 270us/sample - loss: 1.0585 - acc: 0.7283\n",
      "Epoch 25/50\n",
      "1807/1807 [==============================] - 1s 288us/sample - loss: 1.0113 - acc: 0.7521\n",
      "Epoch 26/50\n",
      "1807/1807 [==============================] - 0s 257us/sample - loss: 0.9777 - acc: 0.7582\n",
      "Epoch 27/50\n",
      "1807/1807 [==============================] - 0s 255us/sample - loss: 0.9261 - acc: 0.7986\n",
      "Epoch 28/50\n",
      "1807/1807 [==============================] - 0s 250us/sample - loss: 0.8903 - acc: 0.7930\n",
      "Epoch 29/50\n",
      "1807/1807 [==============================] - 0s 247us/sample - loss: 0.8412 - acc: 0.8024\n",
      "Epoch 30/50\n",
      "1807/1807 [==============================] - 0s 251us/sample - loss: 0.8094 - acc: 0.8080\n",
      "Epoch 31/50\n",
      "1807/1807 [==============================] - 0s 234us/sample - loss: 0.7640 - acc: 0.8401\n",
      "Epoch 32/50\n",
      "1807/1807 [==============================] - 0s 244us/sample - loss: 0.7292 - acc: 0.8445\n",
      "Epoch 33/50\n",
      "1807/1807 [==============================] - 0s 272us/sample - loss: 0.7064 - acc: 0.8533\n",
      "Epoch 34/50\n",
      "1807/1807 [==============================] - 0s 270us/sample - loss: 0.6563 - acc: 0.8783\n",
      "Epoch 35/50\n",
      "1807/1807 [==============================] - 0s 274us/sample - loss: 0.6315 - acc: 0.8827\n",
      "Epoch 36/50\n",
      "1807/1807 [==============================] - 1s 283us/sample - loss: 0.6035 - acc: 0.8888\n",
      "Epoch 37/50\n",
      "1807/1807 [==============================] - 0s 262us/sample - loss: 0.5891 - acc: 0.8755\n",
      "Epoch 38/50\n",
      "1807/1807 [==============================] - 0s 255us/sample - loss: 0.5497 - acc: 0.8987\n",
      "Epoch 39/50\n",
      "1807/1807 [==============================] - 0s 257us/sample - loss: 0.5249 - acc: 0.9015\n",
      "Epoch 40/50\n",
      "1807/1807 [==============================] - 0s 254us/sample - loss: 0.5030 - acc: 0.9070\n",
      "Epoch 41/50\n",
      "1807/1807 [==============================] - 0s 243us/sample - loss: 0.4680 - acc: 0.9159\n",
      "Epoch 42/50\n",
      "1807/1807 [==============================] - 0s 245us/sample - loss: 0.4681 - acc: 0.9120\n",
      "Epoch 43/50\n",
      "1807/1807 [==============================] - 0s 267us/sample - loss: 0.4349 - acc: 0.9126\n",
      "Epoch 44/50\n",
      "1807/1807 [==============================] - 0s 267us/sample - loss: 0.4018 - acc: 0.9286\n",
      "Epoch 45/50\n",
      "1807/1807 [==============================] - 0s 267us/sample - loss: 0.3926 - acc: 0.9358\n",
      "Epoch 46/50\n",
      "1807/1807 [==============================] - 0s 249us/sample - loss: 0.3766 - acc: 0.9402\n",
      "Epoch 47/50\n",
      "1807/1807 [==============================] - 0s 259us/sample - loss: 0.3598 - acc: 0.9480\n",
      "Epoch 48/50\n"
     ]
    },
    {
     "name": "stdout",
     "output_type": "stream",
     "text": [
      "1807/1807 [==============================] - 0s 247us/sample - loss: 0.3517 - acc: 0.9463\n",
      "Epoch 49/50\n",
      "1807/1807 [==============================] - 0s 251us/sample - loss: 0.3262 - acc: 0.9557\n",
      "Epoch 50/50\n",
      "1807/1807 [==============================] - 0s 272us/sample - loss: 0.3272 - acc: 0.9519\n",
      "2019-08-13 18:12:38 \u001b[1;30mINFO    \u001b[0m \u001b[34mrasa.core.policies.keras_policy\u001b[0m  - Done fitting keras policy model\n",
      "Processed trackers: 100%|███████| 21/21 [00:00<00:00, 2791.68it/s, # actions=68]\n",
      "Processed actions: 68it [00:00, 8416.58it/s, # examples=68]\n",
      "Processed trackers: 100%|███████| 21/21 [00:00<00:00, 2812.81it/s, # actions=51]\n",
      "2019-08-13 18:12:39 \u001b[1;30mINFO    \u001b[0m \u001b[34mrasa.core.agent\u001b[0m  - Persisted model to '/tmp/tmpkzxcjlfm/core'\n",
      "\u001b[94mCore model training completed.\u001b[0m\n",
      "\u001b[94mNLU data/configuration did not change. No need to retrain NLU model.\u001b[0m\n",
      "\u001b[92mYour Rasa model is trained and saved at '/work/bot/models/current.tar.gz'.\u001b[0m\n",
      "make: Leaving directory '/work/bot'\n"
     ]
    }
   ],
   "source": [
    "!make train -C $BOT_DIR_PATH"
   ]
  },
  {
   "cell_type": "markdown",
   "metadata": {},
   "source": [
    "* `rasa_core.evaluate` é o método utilizado para verificar a qualidade das suas `stories`."
   ]
  },
  {
   "cell_type": "code",
   "execution_count": 5,
   "metadata": {
    "scrolled": true
   },
   "outputs": [
    {
     "name": "stdout",
     "output_type": "stream",
     "text": [
      "/usr/local/lib/python3.6/site-packages/tensorflow/python/framework/dtypes.py:526: FutureWarning: Passing (type, 1) or '1type' as a synonym of type is deprecated; in a future version of numpy, it will be understood as (type, (1,)) / '(1,)type'.\n",
      "  _np_qint8 = np.dtype([(\"qint8\", np.int8, 1)])\n",
      "/usr/local/lib/python3.6/site-packages/tensorflow/python/framework/dtypes.py:527: FutureWarning: Passing (type, 1) or '1type' as a synonym of type is deprecated; in a future version of numpy, it will be understood as (type, (1,)) / '(1,)type'.\n",
      "  _np_quint8 = np.dtype([(\"quint8\", np.uint8, 1)])\n",
      "/usr/local/lib/python3.6/site-packages/tensorflow/python/framework/dtypes.py:528: FutureWarning: Passing (type, 1) or '1type' as a synonym of type is deprecated; in a future version of numpy, it will be understood as (type, (1,)) / '(1,)type'.\n",
      "  _np_qint16 = np.dtype([(\"qint16\", np.int16, 1)])\n",
      "/usr/local/lib/python3.6/site-packages/tensorflow/python/framework/dtypes.py:529: FutureWarning: Passing (type, 1) or '1type' as a synonym of type is deprecated; in a future version of numpy, it will be understood as (type, (1,)) / '(1,)type'.\n",
      "  _np_quint16 = np.dtype([(\"quint16\", np.uint16, 1)])\n",
      "/usr/local/lib/python3.6/site-packages/tensorflow/python/framework/dtypes.py:530: FutureWarning: Passing (type, 1) or '1type' as a synonym of type is deprecated; in a future version of numpy, it will be understood as (type, (1,)) / '(1,)type'.\n",
      "  _np_qint32 = np.dtype([(\"qint32\", np.int32, 1)])\n",
      "/usr/local/lib/python3.6/site-packages/tensorflow/python/framework/dtypes.py:535: FutureWarning: Passing (type, 1) or '1type' as a synonym of type is deprecated; in a future version of numpy, it will be understood as (type, (1,)) / '(1,)type'.\n",
      "  np_resource = np.dtype([(\"resource\", np.ubyte, 1)])\n",
      "Processed Story Blocks: 100%|███| 21/21 [00:00<00:00, 1045.71it/s, # trackers=1]\n",
      "2019-08-13 18:12:45 \u001b[1;30mINFO    \u001b[0m \u001b[34mrasa.core.test\u001b[0m  - Evaluating 21 stories\n",
      "Progress:\n",
      "100%|███████████████████████████████████████████| 21/21 [00:00<00:00, 25.06it/s]\n",
      "2019-08-13 18:12:46 \u001b[1;30mINFO    \u001b[0m \u001b[34mrasa.core.test\u001b[0m  - Finished collecting predictions.\n",
      "2019-08-13 18:12:46 \u001b[1;30mINFO    \u001b[0m \u001b[34mrasa.core.test\u001b[0m  - Evaluation Results on CONVERSATION level:\n",
      "2019-08-13 18:12:46 \u001b[1;30mINFO    \u001b[0m \u001b[34mrasa.core.test\u001b[0m  - \tCorrect:          21 / 21\n",
      "2019-08-13 18:12:46 \u001b[1;30mINFO    \u001b[0m \u001b[34mrasa.core.test\u001b[0m  - \tF1-Score:         1.000\n",
      "2019-08-13 18:12:46 \u001b[1;30mINFO    \u001b[0m \u001b[34mrasa.core.test\u001b[0m  - \tPrecision:        1.000\n",
      "2019-08-13 18:12:46 \u001b[1;30mINFO    \u001b[0m \u001b[34mrasa.core.test\u001b[0m  - \tAccuracy:         1.000\n",
      "2019-08-13 18:12:46 \u001b[1;30mINFO    \u001b[0m \u001b[34mrasa.core.test\u001b[0m  - \tIn-data fraction: 0.982\n",
      "2019-08-13 18:12:46 \u001b[1;30mINFO    \u001b[0m \u001b[34mrasa.core.test\u001b[0m  - Evaluation Results on ACTION level:\n",
      "2019-08-13 18:12:46 \u001b[1;30mINFO    \u001b[0m \u001b[34mrasa.core.test\u001b[0m  - \tCorrect:          113 / 113\n",
      "2019-08-13 18:12:46 \u001b[1;30mINFO    \u001b[0m \u001b[34mrasa.core.test\u001b[0m  - \tF1-Score:         1.000\n",
      "2019-08-13 18:12:46 \u001b[1;30mINFO    \u001b[0m \u001b[34mrasa.core.test\u001b[0m  - \tPrecision:        1.000\n",
      "2019-08-13 18:12:46 \u001b[1;30mINFO    \u001b[0m \u001b[34mrasa.core.test\u001b[0m  - \tAccuracy:         1.000\n",
      "2019-08-13 18:12:46 \u001b[1;30mINFO    \u001b[0m \u001b[34mrasa.core.test\u001b[0m  - \tIn-data fraction: 0.982\n",
      "2019-08-13 18:12:46 \u001b[1;30mINFO    \u001b[0m \u001b[34mrasa.core.test\u001b[0m  - \tClassification report: \n",
      "                              precision    recall  f1-score   support\n",
      "\n",
      "      action_deactivate_form       1.00      1.00      1.00         1\n",
      "               action_listen       1.00      1.00      1.00        50\n",
      "            action_post_lead       1.00      1.00      1.00         4\n",
      "                   lead_form       1.00      1.00      1.00         7\n",
      "    primary_preferences_form       1.00      1.00      1.00         5\n",
      "  secondary_preferences_form       1.00      1.00      1.00         5\n",
      "         utter_anything_else       1.00      1.00      1.00         1\n",
      "utter_ask_continue_lead_form       1.00      1.00      1.00         2\n",
      "         utter_ask_how_doing       1.00      1.00      1.00         4\n",
      "                   utter_bye       1.00      1.00      1.00         6\n",
      "           utter_cant_signup       1.00      1.00      1.00         2\n",
      "               utter_default       1.00      1.00      1.00         1\n",
      "               utter_elogios       1.00      1.00      1.00         1\n",
      "      utter_explain_objetive       1.00      1.00      1.00         2\n",
      "                 utter_great       1.00      1.00      1.00         1\n",
      "                 utter_greet       1.00      1.00      1.00         8\n",
      "   utter_greet_ask_how_doing       1.00      1.00      1.00         2\n",
      "                  utter_rent       1.00      1.00      1.00         1\n",
      "                  utter_sell       1.00      1.00      1.00         1\n",
      "       utter_what_know_about       1.00      1.00      1.00         4\n",
      "               zip_code_form       1.00      1.00      1.00         5\n",
      "\n",
      "                   micro avg       1.00      1.00      1.00       113\n",
      "                   macro avg       1.00      1.00      1.00       113\n",
      "                weighted avg       1.00      1.00      1.00       113\n",
      "\n",
      "2019-08-13 18:12:46 \u001b[1;30mINFO    \u001b[0m \u001b[34mrasa.nlu.test\u001b[0m  - Confusion matrix, without normalization: \n",
      "[[ 1  0  0  0  0  0  0  0  0  0  0  0  0  0  0  0  0  0  0  0  0]\n",
      " [ 0 50  0  0  0  0  0  0  0  0  0  0  0  0  0  0  0  0  0  0  0]\n",
      " [ 0  0  4  0  0  0  0  0  0  0  0  0  0  0  0  0  0  0  0  0  0]\n",
      " [ 0  0  0  7  0  0  0  0  0  0  0  0  0  0  0  0  0  0  0  0  0]\n",
      " [ 0  0  0  0  5  0  0  0  0  0  0  0  0  0  0  0  0  0  0  0  0]\n",
      " [ 0  0  0  0  0  5  0  0  0  0  0  0  0  0  0  0  0  0  0  0  0]\n",
      " [ 0  0  0  0  0  0  1  0  0  0  0  0  0  0  0  0  0  0  0  0  0]\n",
      " [ 0  0  0  0  0  0  0  2  0  0  0  0  0  0  0  0  0  0  0  0  0]\n",
      " [ 0  0  0  0  0  0  0  0  4  0  0  0  0  0  0  0  0  0  0  0  0]\n",
      " [ 0  0  0  0  0  0  0  0  0  6  0  0  0  0  0  0  0  0  0  0  0]\n",
      " [ 0  0  0  0  0  0  0  0  0  0  2  0  0  0  0  0  0  0  0  0  0]\n",
      " [ 0  0  0  0  0  0  0  0  0  0  0  1  0  0  0  0  0  0  0  0  0]\n",
      " [ 0  0  0  0  0  0  0  0  0  0  0  0  1  0  0  0  0  0  0  0  0]\n",
      " [ 0  0  0  0  0  0  0  0  0  0  0  0  0  2  0  0  0  0  0  0  0]\n",
      " [ 0  0  0  0  0  0  0  0  0  0  0  0  0  0  1  0  0  0  0  0  0]\n",
      " [ 0  0  0  0  0  0  0  0  0  0  0  0  0  0  0  8  0  0  0  0  0]\n",
      " [ 0  0  0  0  0  0  0  0  0  0  0  0  0  0  0  0  2  0  0  0  0]\n",
      " [ 0  0  0  0  0  0  0  0  0  0  0  0  0  0  0  0  0  1  0  0  0]\n",
      " [ 0  0  0  0  0  0  0  0  0  0  0  0  0  0  0  0  0  0  1  0  0]\n",
      " [ 0  0  0  0  0  0  0  0  0  0  0  0  0  0  0  0  0  0  0  4  0]\n",
      " [ 0  0  0  0  0  0  0  0  0  0  0  0  0  0  0  0  0  0  0  0  5]]\n"
     ]
    }
   ],
   "source": [
    "!rasa test core -m $BOT_MODELS_PATH -s $BOT_STORIES_PATH --out results"
   ]
  },
  {
   "cell_type": "markdown",
   "metadata": {},
   "source": [
    "* Caso algum problme seja encotrado ele será descrito no arquivo `failed_stories.md`"
   ]
  },
  {
   "cell_type": "code",
   "execution_count": 6,
   "metadata": {},
   "outputs": [
    {
     "name": "stdout",
     "output_type": "stream",
     "text": [
      "<!-- All stories passed -->"
     ]
    }
   ],
   "source": [
    "!cat results/failed_stories.md"
   ]
  },
  {
   "cell_type": "markdown",
   "metadata": {},
   "source": [
    "* Se tudo estiver correto você deverá ver a mensagem:\n",
    "\n",
    "`<!-- All stories passed -->`"
   ]
  },
  {
   "cell_type": "markdown",
   "metadata": {},
   "source": [
    "* Outro arquivo gerado é  o `story_confmat.pdf` uma matriz de confuzão onde é possível visualizar a relação entre as `utters` (mensagens enviadas ."
   ]
  },
  {
   "cell_type": "code",
   "execution_count": 7,
   "metadata": {
    "scrolled": false
   },
   "outputs": [
    {
     "data": {
      "text/html": [
       "\n",
       "        <iframe\n",
       "            width=\"900\"\n",
       "            height=\"900\"\n",
       "            src=\"results/story_confmat.pdf\"\n",
       "            frameborder=\"0\"\n",
       "            allowfullscreen\n",
       "        ></iframe>\n",
       "        "
      ],
      "text/plain": [
       "<IPython.lib.display.IFrame at 0x7f4ec8676550>"
      ]
     },
     "execution_count": 7,
     "metadata": {},
     "output_type": "execute_result"
    }
   ],
   "source": [
    "from IPython.display import IFrame\n",
    "IFrame(\"results/story_confmat.pdf\", width=900, height=900)"
   ]
  },
  {
   "cell_type": "markdown",
   "metadata": {},
   "source": [
    "## Referências:\n",
    "\n",
    "O Rasa está em constante evolução, alguns links úteis para a construção deste jupyter-notebook e para a análise das `stories` são:\n",
    "\n",
    "* [Evaluation](https://rasa.com/docs/core/evaluation/)\n",
    "* [Debugging](https://rasa.com/docs/core/debugging/)"
   ]
  },
  {
   "cell_type": "code",
   "execution_count": null,
   "metadata": {},
   "outputs": [],
   "source": []
  }
 ],
 "metadata": {
  "colab": {
   "collapsed_sections": [
    "y4miuS-TqYcn",
    "BBF6Nqi9scQE",
    "Fs3nOUzBsqrG",
    "5MnGuFRpzzBh"
   ],
   "default_view": {},
   "name": "Building a Simple Bot with Rasa Stack - Tutorial",
   "provenance": [
    {
     "file_id": "1GutDkDXmfU-nRzNH7Pxxx8YpdvLUw9LO",
     "timestamp": 1521183725373
    }
   ],
   "toc_visible": true,
   "version": "0.3.2",
   "views": {}
  },
  "kernelspec": {
   "display_name": "Python 3",
   "language": "python",
   "name": "python3"
  },
  "language_info": {
   "codemirror_mode": {
    "name": "ipython",
    "version": 3
   },
   "file_extension": ".py",
   "mimetype": "text/x-python",
   "name": "python",
   "nbconvert_exporter": "python",
   "pygments_lexer": "ipython3",
   "version": "3.6.9"
  }
 },
 "nbformat": 4,
 "nbformat_minor": 1
}
